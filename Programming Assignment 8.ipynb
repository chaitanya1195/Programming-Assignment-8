{
 "cells": [
  {
   "cell_type": "code",
   "execution_count": 11,
   "id": "2b1c8935",
   "metadata": {},
   "outputs": [
    {
     "name": "stdout",
     "output_type": "stream",
     "text": [
      "[13, 13, 13]\n",
      "[13, 13, 13]\n",
      "[4, 4, 4]\n"
     ]
    }
   ],
   "source": [
    "#1. Write a Python Program to Add Two Matrices?\n",
    "#lets cosider two variables X and Y are 3x3 matrices\n",
    "\n",
    "X = [[9, 8, 7], [6, 5, 4], [3, 2, 1]]\n",
    "Y = [[4, 5, 6], [7, 8, 9], [1, 2, 3]]\n",
    "\n",
    "result = [[0, 0, 0], [0, 0, 0], [0, 0, 0]]\n",
    "\n",
    "#Iterate through rows\n",
    "\n",
    "for i in range(len(X)):\n",
    "#Iterate through columns\n",
    "    for j in range(len(X[0])):\n",
    "        result[i][j] = X[i][j] + Y[i][j]\n",
    "    \n",
    "for r in result:\n",
    "    print (r)"
   ]
  },
  {
   "cell_type": "code",
   "execution_count": 19,
   "id": "651dfc7a",
   "metadata": {},
   "outputs": [
    {
     "name": "stdout",
     "output_type": "stream",
     "text": [
      "[99, 123, 147, 138]\n",
      "[63, 78, 93, 84]\n",
      "[27, 33, 39, 30]\n"
     ]
    }
   ],
   "source": [
    "#2. Write a Python Program to Multiply Two Matrices?\n",
    "#lets cosider two variables X and Y are 3x3 matrices\n",
    "\n",
    "X = [[9, 8, 7], [6, 5, 4], [3, 2, 1]]\n",
    "Y = [[4, 5, 6, 3], [7, 8, 9, 6], [1, 2, 3, 9]]\n",
    "\n",
    "result = [[0, 0, 0, 0], [0, 0, 0, 0], [0, 0, 0, 0]]\n",
    "\n",
    "for i in range(len(X)):\n",
    "    for j in range(len(Y[0])):\n",
    "        for k in range(len(Y)):\n",
    "            result[i][j] += X[i][k] * Y[k][j]\n",
    "            \n",
    "for r in result:\n",
    "    print(r)\n"
   ]
  },
  {
   "cell_type": "code",
   "execution_count": 4,
   "id": "3763ff39",
   "metadata": {},
   "outputs": [
    {
     "name": "stdout",
     "output_type": "stream",
     "text": [
      "[4, 9, 4]\n",
      "[5, 8, 9]\n",
      "[6, 4, 2]\n",
      "[8, 5, 5]\n"
     ]
    }
   ],
   "source": [
    "#3. Write a Python Program to Transpose a Matrix?\n",
    "# Lets consider a 3x4 matrix\n",
    "\n",
    "X = [[4, 5, 6, 8], [9, 8, 4, 5], [4, 9, 2, 5]]\n",
    "\n",
    "result = [[0, 0, 0], [0, 0, 0], [0, 0, 0], [0, 0, 0]]\n",
    "\n",
    "for i in range(len(X)):\n",
    "    for j in range(len(X[0])):\n",
    "        result[j][i] = X[i][j]\n",
    "        \n",
    "for r in result:\n",
    "    print(r)"
   ]
  },
  {
   "cell_type": "code",
   "execution_count": null,
   "id": "e96c5069",
   "metadata": {},
   "outputs": [],
   "source": [
    "#4 Program to sort alphabetically the words form a string provided by the user\n",
    "\n",
    "\n",
    "# To take input from the user\n",
    "my_str = input(\"Enter a string: \")\n",
    "\n",
    "# breakdown the string into a list of words\n",
    "words = [word.lower() for word in my_str.split()]\n",
    "\n",
    "# sort the list\n",
    "words.sort()\n",
    "\n",
    "# display the sorted words\n",
    "\n",
    "print(\"The sorted words are:\")\n",
    "for word in words:\n",
    "   print(word)"
   ]
  },
  {
   "cell_type": "code",
   "execution_count": null,
   "id": "c4581a3d",
   "metadata": {},
   "outputs": [],
   "source": [
    "#5 define punctuation\n",
    "punctuations = '''!()-[]{};:'\"\\,<>./?@#$%^&*_~'''\n",
    "\n",
    "# To take input from the user\n",
    "my_str = input(\"Enter a string: \")\n",
    "\n",
    "# remove punctuation from the string\n",
    "no_punct = \"\"\n",
    "for char in my_str:\n",
    "   if char not in punctuations:\n",
    "       no_punct = no_punct + char\n",
    "\n",
    "# display the unpunctuated string\n",
    "print(no_punct)"
   ]
  },
  {
   "cell_type": "code",
   "execution_count": null,
   "id": "9b48fbd8",
   "metadata": {},
   "outputs": [],
   "source": []
  }
 ],
 "metadata": {
  "kernelspec": {
   "display_name": "Python 3 (ipykernel)",
   "language": "python",
   "name": "python3"
  },
  "language_info": {
   "codemirror_mode": {
    "name": "ipython",
    "version": 3
   },
   "file_extension": ".py",
   "mimetype": "text/x-python",
   "name": "python",
   "nbconvert_exporter": "python",
   "pygments_lexer": "ipython3",
   "version": "3.9.12"
  }
 },
 "nbformat": 4,
 "nbformat_minor": 5
}
